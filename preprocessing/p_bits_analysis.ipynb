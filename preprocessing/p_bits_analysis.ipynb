{
  "cells": [
    {
      "cell_type": "code",
      "execution_count": null,
      "id": "39279514-9f09-4971-855d-caabcd9025c6",
      "metadata": {
        "id": "39279514-9f09-4971-855d-caabcd9025c6"
      },
      "outputs": [],
      "source": [
        "# RTN Time Domain\n",
        "import pandas as pd\n",
        "import plotly.express as px\n",
        "import plotly.graph_objects as go\n",
        "from scipy import signal\n",
        "import matplotlib.pyplot as plt\n",
        "import numpy as np\n",
        "from tqdm import tqdm\n",
        "from sklearn.cluster import KMeans\n",
        "from sklearn.cluster import SpectralClustering\n",
        "import seaborn as sns\n",
        "from scipy.signal import find_peaks\n",
        "from scipy.stats import expon\n",
        "from scipy.stats import poisson\n",
        "import pywt\n",
        "from scipy.optimize import curve_fit"
      ]
    },
    {
      "cell_type": "code",
      "execution_count": null,
      "id": "48fba4aa-615c-4b6d-83a8-6841102b0bb4",
      "metadata": {
        "id": "48fba4aa-615c-4b6d-83a8-6841102b0bb4"
      },
      "outputs": [],
      "source": [
        "def plot_raw(df, y_column=\"Id\", name = \"plot\", color=\"blue\"):\n",
        "    # Create a line plot trace\n",
        "    trace = go.Scatter(x=df['Time'], y=df[y_column],\n",
        "                       mode='lines',\n",
        "                       name=name,\n",
        "                       line=dict(color=color))\n",
        "\n",
        "    # Create a layout\n",
        "    layout = go.Layout(title=name,\n",
        "                       xaxis=dict(title='Time'),\n",
        "                       yaxis=dict(title='Current'))\n",
        "\n",
        "    # Create a Figure and add the trace\n",
        "    fig = go.Figure(data=[trace], layout=layout)\n",
        "\n",
        "    return fig"
      ]
    },
    {
      "cell_type": "code",
      "execution_count": null,
      "id": "c143a788-7122-4e56-9cf0-b2d6fecdc3c1",
      "metadata": {
        "id": "c143a788-7122-4e56-9cf0-b2d6fecdc3c1"
      },
      "outputs": [],
      "source": [
        "def notch_filter(df, samp_freq):\n",
        "    notch_freq = [60 * i for i in range(1, int(samp_freq / 120))]\n",
        "    y_notched = df.copy()\n",
        "    y_notched = y_notched['Id']\n",
        "    quality_factor = 10\n",
        "    for filter_f in tqdm(notch_freq):\n",
        "        b_notch, a_notch = signal.iirnotch(filter_f, quality_factor, samp_freq)\n",
        "        freq, h = signal.freqz(b_notch, a_notch, fs = samp_freq)\n",
        "\n",
        "        y_notched = signal.filtfilt(b_notch, a_notch, y_notched)\n",
        "\n",
        "    plt.subplot(211)\n",
        "    plt.plot(df['Time'],df['Id'], color = 'r')\n",
        "    plt.subplot(212)\n",
        "    plt.plot(df['Time'], y_notched, color = 'r')\n",
        "\n",
        "    df_denoised = pd.DataFrame()\n",
        "    df_denoised['Time'] = df['Time']\n",
        "    df_denoised['Id_original'] = df['Id']\n",
        "    df_denoised['Id'] = y_notched\n",
        "\n",
        "    return df_denoised"
      ]
    },
    {
      "cell_type": "code",
      "execution_count": null,
      "id": "6cc4a86d-fea1-41ae-951f-06e9ef384e94",
      "metadata": {
        "id": "6cc4a86d-fea1-41ae-951f-06e9ef384e94"
      },
      "outputs": [],
      "source": [
        "def Perform_KDE(df, column=\"Id\", n_peaks=4, type=\"normal\"):\n",
        "    data = df[column]\n",
        "\n",
        "    # Perform KDE once and get data\n",
        "    sns.kdeplot(data, fill=True)\n",
        "    KDE_model = sns.kdeplot(data).get_lines()[0]\n",
        "    print(\"KDE_model:\", KDE_model)\n",
        "    x = KDE_model.get_xdata()\n",
        "    y = KDE_model.get_ydata()\n",
        "    plt.close()  # Close the initial plot\n",
        "\n",
        "    # Debug prints\n",
        "    print(\"len(y)=\", len(y))\n",
        "    print(\"len(x)=\", len(x))\n",
        "\n",
        "    # Find peaks in the KDE distribution\n",
        "    peaks, _ = find_peaks(y)\n",
        "\n",
        "    # Find local minima by inverting the KDE y-data and finding peaks\n",
        "    inverted_y = -y\n",
        "    local_minima, _ = find_peaks(inverted_y)\n",
        "    local_minima = np.array([int(x) for x in local_minima])\n",
        "    minima = local_minima[np.argsort(inverted_y[local_minima])[-len(local_minima):]]\n",
        "\n",
        "    # Get the top peaks based on height\n",
        "    top_peaks = peaks[np.argsort(y[peaks])[-n_peaks:]]\n",
        "\n",
        "    print(\"minimais: \", minima)\n",
        "    print(\"peaks: \", top_peaks)\n",
        "\n",
        "    # Plot again with marked points\n",
        "    sns.kdeplot(data, fill=True)\n",
        "    plt.scatter(x[top_peaks], y[top_peaks], color='red', s=30, marker='o')\n",
        "    plt.scatter(x[local_minima], y[local_minima], color='green', s=30, marker='o')\n",
        "\n",
        "    if type == \"log\":\n",
        "        plt.gca().set_yscale(\"log\")\n",
        "    plt.show()\n",
        "\n",
        "    # Retrieve the x-values corresponding to these peaks\n",
        "    peak_values = x[top_peaks]\n",
        "    min_values_rank_by_density = x[minima]\n",
        "\n",
        "    # Safeguard against potential IndexError\n",
        "    valid_minima = local_minima[local_minima < len(x)]\n",
        "    min_values = x[valid_minima]\n",
        "\n",
        "    peak_values_rank_by_density = peak_values.copy()\n",
        "    peak_values = np.sort(peak_values)\n",
        "\n",
        "    return peak_values, peak_values_rank_by_density, min_values, min_values_rank_by_density\n"
      ]
    },
    {
      "cell_type": "code",
      "execution_count": null,
      "id": "08e307b6-9fd0-4f7e-a37a-87a34c2adf96",
      "metadata": {
        "id": "08e307b6-9fd0-4f7e-a37a-87a34c2adf96"
      },
      "outputs": [],
      "source": [
        "def wavelet_transform(df, threshold=1e-5, level_val=7):\n",
        "    df_denoise1 = df.copy()\n",
        "    noisy_signal = df_denoise1[\"Id\"]\n",
        "    t = df_denoise1[\"Time\"]\n",
        "\n",
        "    coeffs = pywt.wavedec(noisy_signal, 'haar', level=7)\n",
        "\n",
        "    # Set a threshold value and apply thresholding to the detail coefficients\n",
        "    coeffs_thresholded = [pywt.threshold(c, threshold, mode='hard') for c in coeffs]\n",
        "    # Reconstruct the signal from the thresholded coefficients\n",
        "    denoised_signal = pywt.waverec(coeffs_thresholded, 'haar')\n",
        "    denoised_signal = denoised_signal# [1:]\n",
        "\n",
        "    plt.subplot(3, 1, 2)\n",
        "    plt.plot(t, noisy_signal, label='Noisy Signal')\n",
        "    plt.title(\"Signal with Noise\")\n",
        "    plt.legend()\n",
        "\n",
        "    plt.subplot(3, 1, 3)\n",
        "    if len(t) != len(denoised_signal):\n",
        "        # plt.plot(t, denoised_signal[:-1], label='Denoised Signal')\n",
        "        denoised_signal = denoised_signal[:-1]\n",
        "    plt.plot(t, denoised_signal, label='Denoised Signal')\n",
        "    plt.title(\"Denoised Signal\")\n",
        "    plt.legend()\n",
        "\n",
        "    plt.tight_layout()\n",
        "    plt.show()\n",
        "    df_denoise1[\"Id_denoised\"] = denoised_signal\n",
        "\n",
        "    plot_fig = plot_raw(df_denoise1, y_column=\"Id_denoised\")\n",
        "    plot_fig.show()\n",
        "    return df_denoise1"
      ]
    },
    {
      "cell_type": "code",
      "execution_count": null,
      "id": "a4a2f89c-0cb4-42a1-8edb-63d136e4d3e3",
      "metadata": {
        "id": "a4a2f89c-0cb4-42a1-8edb-63d136e4d3e3"
      },
      "outputs": [],
      "source": [
        "def record_time(df, cutoff, threshold, column):\n",
        "    emission_time = []\n",
        "    capture_time = []\n",
        "    emission_start_time = None\n",
        "    emission_end_time = None\n",
        "    capture_start_time = None\n",
        "    capture_end_time = None\n",
        "    # iterate over dataframe rows\n",
        "    for idx, row in df.iterrows():\n",
        "        if row[column] < threshold and emission_start_time is None:\n",
        "            emission_start_time = row['Time']\n",
        "\n",
        "        elif row[column] > threshold and capture_start_time is None:\n",
        "            capture_start_time = row['Time']\n",
        "\n",
        "        elif row[column] > threshold and emission_start_time is not None:\n",
        "            emission_end_time = row['Time']\n",
        "            duration = emission_end_time - emission_start_time\n",
        "            if (duration >= cutoff):\n",
        "                emission_time.append((emission_start_time, emission_end_time, duration))\n",
        "                emission_start_time = None\n",
        "\n",
        "        elif row[column] < threshold and capture_start_time is not None:\n",
        "            capture_end_time = row['Time']\n",
        "            duration = capture_end_time - capture_start_time\n",
        "            # print(duration)\n",
        "            if (duration >= cutoff):\n",
        "                capture_time.append((capture_start_time, capture_end_time, duration))\n",
        "                capture_start_time = None\n",
        "\n",
        "    # When we reach the end of the data, but the capture/emission even has not been changed.\n",
        "    if emission_start_time is not None:\n",
        "        emission_end_time = df.loc[idx, 'Time']\n",
        "        duration = emission_end_time - emission_start_time\n",
        "        if (duration >= cutoff):\n",
        "                emission_time.append((emission_start_time, emission_end_time, duration))\n",
        "                emission_start_time = None\n",
        "\n",
        "    elif capture_start_time is not None:\n",
        "        end_time = df.loc[idx, 'Time']\n",
        "        duration = capture_end_time - capture_start_time\n",
        "        if (duration >= cutoff):\n",
        "                capture_time.append((capture_start_time, capture_end_time, duration))\n",
        "                start_time = None\n",
        "\n",
        "    return emission_time, capture_time"
      ]
    },
    {
      "cell_type": "code",
      "execution_count": null,
      "id": "91016500-2200-459f-b10c-1229dc31de9a",
      "metadata": {
        "id": "91016500-2200-459f-b10c-1229dc31de9a"
      },
      "outputs": [],
      "source": [
        "def emission_capture_ratio(df, cutoff = 0.02, change_threshold = False, threshold_provide = 0, y_column=\"Id_denoised\"):\n",
        "    fig = plot_raw(df, y_column)\n",
        "    fig.show()\n",
        "\n",
        "    if change_threshold:\n",
        "        threshold = threshold_provide\n",
        "    else:\n",
        "        peak_values, peak_values_rank_by_density, min_values, min_values_rank_by_density = Perform_KDE(df, column=\"Id_denoised\") #change\n",
        "        threshold =  (peak_values_rank_by_density[-1] + peak_values_rank_by_density[-2]) / 2\n",
        "        print(\"threshold is: \", threshold)\n",
        "\n",
        "    emission, capture = record_time(df, cutoff, threshold, y_column) #change\n",
        "    # capture1 = [x[2] for x in capture]\n",
        "    df_emission_total = sum(data[2] for data in emission)\n",
        "    df_capture_total = sum(data[2] for data in capture)\n",
        "    emission_capture =  df_emission_total / (df_emission_total + df_capture_total)\n",
        "    return emission_capture, emission, capture"
      ]
    },
    {
      "cell_type": "code",
      "execution_count": null,
      "id": "2579c804",
      "metadata": {
        "id": "2579c804"
      },
      "outputs": [],
      "source": [
        "# RFSOI\n",
        "def plot_vg_vd(addr=r\"C:\\wgfmu_example\\8.3_new_start\\nthin_Vg0.6_Vd0.3_10kHz_2000000_2K_1MA_0.csv\" ):\n",
        "    df2K_6= pd.read_csv(addr)\n",
        "    df2K_6.columns = [\"Time\", \"Id\"]\n",
        "    # Remember to change the sampling frequency!\n",
        "    df_denoise2K_6 = notch_filter(df2K_6, 10000)\n",
        "    fig = plot_raw(df_denoise2K_6)\n",
        "    fig.show()\n",
        "    return df_denoise2K_6"
      ]
    },
    {
      "cell_type": "code",
      "execution_count": null,
      "id": "3bf5f169",
      "metadata": {
        "id": "3bf5f169"
      },
      "outputs": [],
      "source": [
        "# 6 measurements in one run\n",
        "def plot_many(names = [0.45,0.5,0.55,0.6,0.65,0.7], addr = r\"C:\\Users\\kongx\\OneDrive\\Desktop\\cena_2\\nthin56_Vg(0.45,0.5,0.55,0.6,0.65,0.7)_Vd0.2_50kHz_2K_3900000_1MA_3.csv\", sf = 10000):\n",
        "    df50K_2= pd.read_csv(addr)\n",
        "    df50K_2.columns = [\"Time\", \"Id\"]\n",
        "    # Remember to change the sampling frequency!\n",
        "    df_denoise50K_2 = notch_filter(df50K_2, sf)\n",
        "    # names = [0.4,0.5,0.6,0.7,0.8,0.9]\n",
        "    for i in range(6):\n",
        "        fig = plot_raw(df_denoise50K_2.iloc[650000*i+2000:650000*(i+1) - 2000], name = str(names[i]))\n",
        "        fig.show()\n",
        "    return df_denoise50K_2"
      ]
    },
    {
      "cell_type": "code",
      "execution_count": null,
      "id": "ee386f4c",
      "metadata": {
        "id": "ee386f4c"
      },
      "outputs": [],
      "source": [
        "def plot_RFSOI(addr=r\"C:\\wgfmu_example\\RFSOI_pbits\\nthin56_Vd(0.050,0.075,0.100,0.125,0.150,0.175)_Vg0.850_10kHz_2K_3900000_1MA.csv\", fs=10000):\n",
        "    df50K_5= pd.read_csv(addr)\n",
        "    df50K_5.columns = [\"Time\", \"Id\"]\n",
        "    names = addr[addr.find(\"(\")+1:addr.find(\")\")-1].split(\",\")\n",
        "    # Remember to change the sampling frequency!\n",
        "    df_denoise50K_5 = notch_filter(df50K_5, fs)\n",
        "    proccessed_data = []\n",
        "    for i in range(6):\n",
        "        fig = plot_raw(df_denoise50K_5.iloc[650000*i+2000:650000*(i+1) - 2000], name = str(names[i]))\n",
        "        fig.show()\n",
        "        proccessed_data.append(df_denoise50K_5.iloc[650000*i+2000:650000*(i+1) - 2000])\n",
        "\n",
        "    return proccessed_data"
      ]
    },
    {
      "cell_type": "code",
      "execution_count": null,
      "id": "942a2f55",
      "metadata": {
        "id": "942a2f55"
      },
      "outputs": [],
      "source": [
        "def time_to_point(df, time):\n",
        "    total_time = 65\n",
        "    return (int(time - df.iloc[0]['Time']) / total_time) * 650000"
      ]
    },
    {
      "cell_type": "code",
      "execution_count": null,
      "id": "bbd18926",
      "metadata": {
        "id": "bbd18926"
      },
      "outputs": [],
      "source": [
        "def get_probability(df, input_start, step):\n",
        "    input = []\n",
        "    for i in range(0,6):\n",
        "        input.append(i*step)\n",
        "    points = []\n",
        "    probabilities = []\n",
        "    for data in df:\n",
        "        point2 = wavelet_transform(data, threshold=5e-4)\n",
        "        points.append(point2)\n",
        "        probability, _, _ = emission_capture_ratio(point2, cutoff = 0.02)\n",
        "        probabilities.append(probability)\n",
        "    return input, probabilities\n"
      ]
    },
    {
      "cell_type": "code",
      "execution_count": null,
      "id": "93c39483",
      "metadata": {
        "id": "93c39483"
      },
      "outputs": [],
      "source": [
        "# Step1: Get the data\n",
        "df = plot_RFSOI(r\"C:\\wgfmu_example\\RFSOI_pbits\\nthin56_Vd(0.05,0.075,0.1,0.125,0.15,0.175)_Vg0.65_10kHz_2K_3900000_1MA.csv\")\n",
        "point15 = wavelet_transform(df[4], threshold=5e-4)"
      ]
    },
    {
      "cell_type": "code",
      "execution_count": null,
      "id": "31878b13",
      "metadata": {
        "id": "31878b13"
      },
      "outputs": [],
      "source": [
        "emission_capture_15, _, _ = emission_capture_ratio(point15, cutoff = 0.02, change_threshold = True, threshold_provide = 144.3e-6)"
      ]
    },
    {
      "cell_type": "code",
      "execution_count": null,
      "id": "87601e15",
      "metadata": {
        "id": "87601e15"
      },
      "outputs": [],
      "source": [
        "\n",
        "group2, probability_group2 = get_probability(df)"
      ]
    },
    {
      "cell_type": "code",
      "execution_count": null,
      "id": "7da521a1",
      "metadata": {
        "id": "7da521a1"
      },
      "outputs": [],
      "source": [
        "# Plotting 45SPCLO Changing Vg, 2K\n",
        "# This gives an example of plotting data along with the sigmoid function.\n",
        "datain1 =  [0.6, 0.65,0.7]\n",
        "datain2 =  [0.5,0.6,0.65,0.7,0.75]\n",
        "datain3 =  [0.6,0.65, 0.7, 0.75, 0.8]\n",
        "dataout1 = [0.9935712571884127, 0.8614155122869538,0.9439158799412982]\n",
        "dataout2 = [0.03547703269254607,0.8064629617965031, 0.9439158799412982,0.9264051922799923,0.9264051922799923]\n",
        "dataout3= [0.053,0.20856073758195928, 0.40431752649595687, 0.5536989154853669,0.5845002428167911]\n",
        "\n",
        "def sigmoid_func(x, a, b):\n",
        "    return 1 / (1 + np.exp(-a * x + b))\n",
        "\n",
        "# Fit the sigmoid function to the data\n",
        "popt1, pcov1 = curve_fit(sigmoid_func, datain1, dataout1)\n",
        "x_fit1 = np.linspace(0, 1, 100)\n",
        "y_fit1 = sigmoid_func(x_fit1, *popt1)\n",
        "\n",
        "popt2, pcov2 = curve_fit(sigmoid_func, datain2, dataout2)\n",
        "x_fit2 = np.linspace(0, 1, 100)\n",
        "y_fit2 = sigmoid_func(x_fit2, *popt2)\n",
        "\n",
        "popt3, pcov3 = curve_fit(sigmoid_func, datain3, dataout3)\n",
        "x_fit3 = np.linspace(0, 1, 100)\n",
        "y_fit3 = sigmoid_func(x_fit3, *popt3)\n",
        "\n",
        "#\n",
        "fig, ax1 = plt.subplots(figsize=(650/100, 400/100))\n",
        "\n",
        "# Plot the first line with ax1 for the left y-axis using square markers\n",
        "ax1.set_xlabel('Vg(V)')\n",
        "ax1.set_ylabel('Probability')\n",
        "# 77, 121, 255\n",
        "\n",
        "# ax1.plot(x_fit1, y_fit1, color='red', alpha=0.3, linewidth=12)\n",
        "# ax1.plot(x_fit1, y_fit1, color=(255/255, 100/255, 130/255), alpha=0.3, linewidth=12)\n",
        "ax1.plot(x_fit2, y_fit2, color=(255/255, 153/255, 51/255), alpha=0.3, linewidth=12)\n",
        "ax1.plot(x_fit3, y_fit3, color=(255/255, 51/255, 204/255), alpha=0.3, linewidth=12)\n",
        "# ax1.plot(CLO_Vd_point2_Vg, CLO_Vd_point2_I, color='red', marker='o', label='Device 1: Vd=0.2', linewidth=0, markersize=10)  # Added square markers here\n",
        "# ax1.plot(CLO_Vd_point15_Vg, CLO_Vd_point15_I, color='red', marker='s', label='#1: Vd=0.15', linewidth=2, markersize=10)  # Added square markers here\n",
        "ax1.plot(datain1, dataout1, color=(255/255, 100/255, 130/255), marker='^', label='Vd=0.4', linewidth=0, markersize=8)  # Added square markers here\n",
        "ax1.plot(datain2, dataout2, color=(255/255, 153/255, 51/255), marker='s', label='Vd=0.3', linewidth=0, markersize=8)  # Added square markers here\n",
        "ax1.plot(datain3, dataout3, color=(255/255, 51/255, 204/255), marker='o', label='Vd=0.2', linewidth=0, markersize=8)\n",
        "\n",
        "\n",
        "# ax1.plot(rf_temp_mag, rf_mag_percent, color='blue', marker='o', linestyle='-', label='45RFSOI', linewidth=2, markersize=10)  # Added point markers here\n",
        "ax1.set_xlim(0, 1)  # Set the limit for left y-axis as percentage\n",
        "\n",
        "# Title and layout\n",
        "plt.title('Impact of Gate Voltage on the transition probability @2K')\n",
        "fig.tight_layout()  # To ensure nothing is clipped\n",
        "\n",
        "# Show plot with a legend\n",
        "ax1.legend(loc='best', bbox_to_anchor=(1, 1))\n",
        "\n",
        "# Set box and grid properties\n",
        "plt.legend(prop={'weight': 'normal'})  # Set legend text weight to 'normal' (non-bold)\n",
        "plt.box(True)  # Show box around plot\n",
        "plt.rcParams['axes.linewidth'] = 2  # Set box linewidth to 2\n",
        "# plt.rcParams['savefig.dpi']=300\n",
        "plt.grid(True, linewidth=2, linestyle='--', color='black', alpha=0.25)  # Set grid properties\n",
        "\n",
        "plt.show()\n"
      ]
    },
    {
      "cell_type": "code",
      "execution_count": null,
      "id": "63d61292-7222-44eb-9aeb-4dc607e0bae1",
      "metadata": {
        "scrolled": true,
        "id": "63d61292-7222-44eb-9aeb-4dc607e0bae1"
      },
      "outputs": [],
      "source": [
        "df_denoise2K_3 = plot_vg_vd(addr=r\"C:\\wgfmu_example\\8.3_new_start\\nthin_Vg0.3_Vd0.3_10kHz_1000000_2K_100UA_0.csv\")\n",
        "df_denoise2K_4 = plot_vg_vd(addr=r\"C:\\wgfmu_example\\8.3_new_start\\nthin_Vg0.4_Vd0.3_10kHz_2000000_2K_100UA_0.csv\")\n",
        "df_denoise2K_5 = plot_vg_vd(addr=r\"C:\\wgfmu_example\\8.3_new_start\\nthin_Vg0.5_Vd0.3_10kHz_2000000_2K_100UA_0.csv\")\n",
        "df_denoise2K_6 = plot_vg_vd(addr=r\"C:\\wgfmu_example\\8.3_new_start\\nthin_Vg0.6_Vd0.3_10kHz_2000000_2K_1MA_0.csv\")\n",
        "emission_capture_6 = emission_capture_ratio(Vg_point6, cutoff = 0.02, change_threshold = True, threshold_provide = 130e-6, y_column=\"Id_denoised\")\n",
        "df_denoise2K_65 = plot_vg_vd(addr=r\"C:\\wgfmu_example\\8.3_new_start\\nthin_Vg0.65_Vd0.3_10kHz_2000000_2K_1MA_0.csv\")\n",
        "emission_capture_65 = emission_capture_ratio(df_denoise2K_65, cutoff = 0.02, change_threshold = True, threshold_provide = 203.7e-6, y_column=\"Id\")\n",
        "df_denoise2K_7 = plot_vg_vd(addr=r\"C:\\wgfmu_example\\8.3_new_start\\nthin_Vg0.7_Vd0.3_10kHz_2000000_2K_1MA_0.csv\")\n",
        "emission_capture_7 = emission_capture_ratio(df_denoise2K_7, cutoff = 0.02, change_threshold = True, threshold_provide = 287.5e-6, y_column=\"Id\")\n"
      ]
    },
    {
      "cell_type": "code",
      "execution_count": null,
      "id": "6a0b8ea9",
      "metadata": {
        "id": "6a0b8ea9"
      },
      "outputs": [],
      "source": [
        "# For SPCLO Vd=0.2 2K\n",
        "CLO_df_denoise50K_2 = plot_many(names = [0.45,0.5,0.55,0.6,0.65,0.7], addr = r\"C:\\Users\\kongx\\OneDrive\\Desktop\\cena_2\\nthin56_Vg(0.45,0.5,0.55,0.6,0.65,0.7)_Vd0.2_50kHz_2K_3900000_1MA_3.csv\", sf=50000)   # C:\\Users\\kongx\\OneDrive\\Desktop\\cena_2\n",
        "emission_capture_45 = 0.00133\n",
        "emission_capture_5 = emission_capture_ratio(CLO_df_denoise50K_2.iloc[650000*1+2000:int(650000*(1+1)) - 2000], cutoff = 0.02, change_threshold = True, threshold_provide = 26.17e-6, y_column=\"Id\")# CLO_df_denoise50K_2\n",
        "emission_capture_55 = emission_capture_ratio(CLO_df_denoise50K_2.iloc[650000*2+2000:int(650000*(2+1)) - 2000], cutoff = 0.02, change_threshold = True, threshold_provide = 60.5e-6, y_column=\"Id\")\n",
        "emission_capture_6 = emission_capture_ratio(CLO_df_denoise50K_2.iloc[650000*3+2000:int(650000*(3+1)) - 2000], cutoff = 0.02, change_threshold = True, threshold_provide = 112.2e-6, y_column=\"Id\")\n",
        "emission_capture_65 = 0.0001\n",
        "emission_capture_7 = 0.0001"
      ]
    },
    {
      "cell_type": "code",
      "source": [
        "### Draft region ###"
      ],
      "metadata": {
        "id": "r9oEY3StmgFB"
      },
      "id": "r9oEY3StmgFB",
      "execution_count": null,
      "outputs": []
    },
    {
      "cell_type": "code",
      "source": [
        "# This is a little off-topic of this notebook. It plots time_constant v.s. temperature.\n",
        "\n",
        "import matplotlib.pyplot as plt\n",
        "\n",
        "# Setup for figure\n",
        "font = {'family': 'times new roman', 'weight': 'normal', 'size':20}\n",
        "plt.rc('font', **font)\n",
        "plt.rcParams['text.latex.preamble'] = r'\\usepackage{amsmath}'  # Optional: Use amsmath package\n",
        "plt.rcParams['font.family'] = 'times new roman'  # Set font family (e.g., 'serif')\n",
        "# plt.rcParams['text.latex.preamble'] = r'\\boldmath'  # Bold font for LaTeX-rendered text (remove this line for non-bold)\n",
        "\n",
        "# Create figure and axis objects\n",
        "fig, ax1 = plt.subplots(figsize=(550/100, 600/100))\n",
        "\n",
        "cena_temp = [100, 50, 25]\n",
        "cena_capture = [0.4263, 0.7311, 3.3798]\n",
        "cena_emission = [0.0157, 4.263, 6.3188]\n",
        "\n",
        "rf_temp = [100, 85, 50, 2.5]\n",
        "rf_capture = [0.004081, 0.053723, 0.204646, 0.24568]\n",
        "rf_emission = [0.030442, 0.10112, 0.301484, 0.762815]\n",
        "#rf_emission = [0.030442, 0.10112, 0.701484, 0.762815]\n",
        "\n",
        "# Plot the first line with ax1 for the left y-axis using triangle-up markers\n",
        "ax1.set_xlabel('Temperature [K]')\n",
        "ax1.set_ylabel('Time constant [s]')\n",
        "\n",
        "line2 = ax1.plot(cena_temp, cena_emission, color=(255/255, 102/255, 0/255), marker='o', label=r'45SPCLO $\\tau_e$', linewidth=2, markersize=10)\n",
        "line1 = ax1.plot(cena_temp, cena_capture, color=(255/255, 102/255, 0/255), marker='^', label=r'45SPCLO $\\tau_c$', linewidth=2, markersize=10)\n",
        "line4 = ax1.plot(rf_temp, rf_emission, color=(204/255, 51/255, 255/255), marker='h', label=r'45RFSOI $\\tau_e$', linewidth=2, markersize=10)\n",
        "line3 = ax1.plot(rf_temp, rf_capture, color=(204/255, 51/255, 255/255), marker='s', label=r'45RFSOI $\\tau_c$', linewidth=2, markersize=10)\n",
        "\n",
        "plt.yscale('log')\n",
        "\n",
        "# Create a second y-axis object that shares the same x-axis\n",
        "\n",
        "# ax2.set_ylim(0.01, 7)  # Set the limit for right y-axis\n",
        "\n",
        "# Title and layout\n",
        "# plt.title('Impact of Temperature on the Tau of RTN')\n",
        "fig.tight_layout()  # To ensure nothing is clipped\n",
        "\n",
        "# Show plot with a legend\n",
        "ax1.legend(loc='best', bbox_to_anchor=(1, 1))  # ['45SPCLO $\\tau_e$','45SPCLO $\\tau_c$','45RFSOI $\\tau_e$','45RFSOI $\\tau_c$']\n",
        "# handles = [line1, line2, line3, line4],\n",
        "\n",
        "# Set box and grid properties\n",
        "plt.legend(prop={'weight': 'normal'})  # Set legend text weight to 'normal' (non-bold)\n",
        "plt.box(True)  # Show box around plot\n",
        "plt.rcParams['axes.linewidth'] = 2  # Set box linewidth to 2\n",
        "plt.rcParams['savefig.dpi']=300\n",
        "plt.grid(True, linewidth=2, linestyle='--', color='black', alpha=0.25)  # Set grid properties\n",
        "\n",
        "plt.show()\n",
        "\n"
      ],
      "metadata": {
        "id": "Orj0P-s2mkq5"
      },
      "id": "Orj0P-s2mkq5",
      "execution_count": null,
      "outputs": []
    },
    {
      "cell_type": "code",
      "execution_count": null,
      "id": "f2d26d66-cea1-44c6-b288-4a2a2bfd84b4",
      "metadata": {
        "id": "f2d26d66-cea1-44c6-b288-4a2a2bfd84b4"
      },
      "outputs": [],
      "source": [
        "## Added by Bozhi - Test plot in Time Domain\n",
        "import plotly.graph_objects as go\n",
        "import plotly.io as pio\n",
        "from plotly.subplots import make_subplots\n",
        "import pandas as pd\n",
        "\n",
        "df1 = df_denoise50K_7\n",
        "df1.columns = [\"Time\", \"Id_original\", \"Id\"]\n",
        "data_plot = df1.iloc[650000*4+2000:650000*(4+1) - 2000]\n",
        "\n",
        "\n",
        "# Creating subplots\n",
        "fig = make_subplots(rows=1, cols=2, column_widths=[0.7, 0.3], shared_yaxes=True,horizontal_spacing=0.02)\n",
        "\n",
        "# Line Plot on the left\n",
        "fig.add_trace(\n",
        "    go.Scatter(x=data_plot['Time'], y=data_plot['Id'], mode='lines', marker_color='blue', line=dict(color='blue')),\n",
        "    row=1, col=1\n",
        ")\n",
        "\n",
        "# KDE plot on the right\n",
        "# For KDE, you might need to calculate the density manually or use an external library as Plotly does not have direct KDE support\n",
        "# Here's an example using a histogram for simplicity\n",
        "fig.add_trace(\n",
        "    go.Histogram(y=data_plot['Id'], histnorm='probability density', orientation='h', marker_color='lightblue'),\n",
        "    row=1, col=2\n",
        ")\n",
        "\n",
        "\n",
        "# Update layout\n",
        "fig.update_layout(\n",
        "    font=dict(family='times new roman', size=20, color='black'),\n",
        "    xaxis1=dict(title='Time [s]', linecolor='black', linewidth=2),\n",
        "    yaxis1=dict(title='ID [A]', linecolor='black', linewidth=2),\n",
        "    xaxis2=dict(title='Count', linecolor='black', linewidth=2),\n",
        "    title=\"Time domain plot for Vds=0.3V\",\n",
        "    # margin={\"l\":0.1, \"t\":0.4},\n",
        "    width=900,\n",
        "    height=400,\n",
        "    showlegend=False,\n",
        "    template='plotly_white',\n",
        ")\n",
        "\n",
        "# Set gridline style and line width\n",
        "fig.update_xaxes(showgrid=True, gridwidth=2, gridcolor='gray', griddash='dot')\n",
        "fig.update_yaxes(showgrid=True, gridwidth=2, gridcolor='gray', griddash='dot')\n",
        "\n",
        "# Display the plot\n",
        "fig.show()\n",
        "\n",
        "# Vg0.7_Vd(0.1, 0.2, 0.3, 0.4, 0.5, 0.6)"
      ]
    }
  ],
  "metadata": {
    "kernelspec": {
      "display_name": "Python 3 (ipykernel)",
      "language": "python",
      "name": "python3"
    },
    "language_info": {
      "codemirror_mode": {
        "name": "ipython",
        "version": 3
      },
      "file_extension": ".py",
      "mimetype": "text/x-python",
      "name": "python",
      "nbconvert_exporter": "python",
      "pygments_lexer": "ipython3",
      "version": "3.8.10"
    },
    "colab": {
      "provenance": []
    }
  },
  "nbformat": 4,
  "nbformat_minor": 5
}